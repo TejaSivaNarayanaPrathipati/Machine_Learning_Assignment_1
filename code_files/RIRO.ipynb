{
 "cells": [
  {
   "cell_type": "code",
   "execution_count": 2,
   "id": "ae69abcd",
   "metadata": {},
   "outputs": [],
   "source": [
    "import numpy as np\n",
    "import pandas as pd"
   ]
  },
  {
   "cell_type": "code",
   "execution_count": 3,
   "id": "10edb101",
   "metadata": {},
   "outputs": [],
   "source": [
    "def MSE(y: pd.Series) -> float:\n",
    "    if y.size == 0:\n",
    "        return 0\n",
    "    else:\n",
    "        m = y.mean()\n",
    "        sum_of_square_errors = 0\n",
    "        for y_i in y:\n",
    "            sum_of_square_errors = sum_of_square_errors + np.square(y_i - m)\n",
    "        return sum_of_square_errors/y.size"
   ]
  },
  {
   "cell_type": "code",
   "execution_count": 4,
   "id": "e5ebaf8f",
   "metadata": {},
   "outputs": [],
   "source": [
    "def MSER_real(x: pd.Series, y: pd.Series, index: int) -> float:\n",
    "    mse_y = MSE(y)\n",
    "    df = pd.DataFrame({'x':x, 'y': y})\n",
    "    df_sort = df.sort_values(by='x', ascending=True)\n",
    "    set1 = df_sort['y'].iloc[0 : index + 1]\n",
    "    prob1 = set1.size/y.size\n",
    "    set2 = df_sort['y'].iloc[index + 1 : ]\n",
    "    prob2 = set2.size/y.size\n",
    "    \n",
    "    w_mse = prob1*MSE(set1)  + prob2*MSE(set2)\n",
    "    \n",
    "    return (mse_y - w_mse)"
   ]
  },
  {
   "cell_type": "code",
   "execution_count": 5,
   "id": "db490b58",
   "metadata": {},
   "outputs": [],
   "source": [
    "def best_split_real_basedon_MSER(x: pd.Series, y: pd.Series)-> tuple[int, float] :\n",
    "    MSERarr = [MSER_real(x, y, i) for i in range(y.size)]\n",
    "    return MSERarr.index(max(MSERarr)), max(MSERarr)"
   ]
  },
  {
   "cell_type": "code",
   "execution_count": 6,
   "id": "10bf071e",
   "metadata": {},
   "outputs": [],
   "source": [
    "def best_attr_real_basedon_MSER(X: pd.DataFrame, y:pd.Series)-> tuple[int, any]:\n",
    "    MSERAttrArray = []\n",
    "    split_array = []\n",
    "    attr_array = []\n",
    "    for attr in X.columns:\n",
    "        MSERAttrArray.append(best_split_real_basedon_MSER(X[attr], y)[1])\n",
    "        attr_array.append(attr)\n",
    "        split_array.append(best_split_real_basedon_MSER(X[attr], y)[0])\n",
    "    \n",
    "    return attr_array[MSERAttrArray.index(max(MSERAttrArray))], split_array[MSERAttrArray.index(max(MSERAttrArray))]"
   ]
  },
  {
   "cell_type": "code",
   "execution_count": 7,
   "id": "4b3568c2",
   "metadata": {},
   "outputs": [],
   "source": [
    "def build_tree_real(X, y, max_depth, current_depth=0):\n",
    "    node_mse = MSE(y)\n",
    "    \n",
    "    if len(y.unique()) == 1:\n",
    "        return {'Class': y.iloc[0], 'entropy': node_mse}\n",
    "    \n",
    "    if X.empty or current_depth == max_depth:\n",
    "        return {'Class': y.mode()[0], 'entropy': node_mse}\n",
    "    \n",
    "    # Find best attribute and split index\n",
    "    best_attr, split_index = best_attr_real_basedon_MSER(X, y)\n",
    "\n",
    "    # Calculate split value as average of jth and (j+1)th sorted unique values\n",
    "    sorted_vals = sorted(X[best_attr].unique())\n",
    "    split_val = (sorted_vals[split_index] + sorted_vals[split_index + 1]) / 2\n",
    "    \n",
    "    tree = {\n",
    "        'attribute': best_attr,\n",
    "        'split_value': split_val,\n",
    "        'entropy': node_mse,\n",
    "        'nodes': {},\n",
    "        'output': y.mean(),\n",
    "        'samples': y.size\n",
    "    }\n",
    "    \n",
    "    left_mask = X[best_attr] <= split_val\n",
    "    right_mask = X[best_attr] > split_val\n",
    "    \n",
    "    X_left, y_left = X[left_mask], y[left_mask]\n",
    "    X_right, y_right = X[right_mask], y[right_mask]\n",
    "    \n",
    "    if y_left.empty:\n",
    "        tree['nodes']['<='] = {'Class': y.mean(), 'entropy': node_mse}\n",
    "    else:\n",
    "        tree['nodes']['<='] = build_tree_real(X_left, y_left, max_depth, current_depth + 1)\n",
    "    \n",
    "    if y_right.empty:\n",
    "        tree['nodes']['>'] = {'Class': y.mean(), 'entropy': node_mse}\n",
    "    else:\n",
    "        tree['nodes']['>'] = build_tree_real(X_right, y_right, max_depth, current_depth + 1)\n",
    "    \n",
    "    return tree\n"
   ]
  },
  {
   "cell_type": "code",
   "execution_count": 8,
   "id": "7b888b29",
   "metadata": {},
   "outputs": [],
   "source": [
    "from graphviz import Digraph\n",
    "\n",
    "def visualize_decision_tree(tree):\n",
    "    def add_nodes_edges(tree, dot=None, parent=None, edge_label=None, node_id=0):\n",
    "        if dot is None:\n",
    "            dot = Digraph()\n",
    "            dot.attr('node', shape='box', style='filled', fillcolor='lightyellow', fontname='helvetica')\n",
    "\n",
    "        current_id = str(node_id)\n",
    "\n",
    "        # Node label for internal node or leaf\n",
    "        if 'Class' in tree:\n",
    "            label = f\"y = {tree['Class']}\"\n",
    "        else:\n",
    "            label = (\n",
    "                f\"X[{tree['attribute']}]\\n\"\n",
    "                f\"y = {tree['output']}\\n\"\n",
    "                f\"Samples: {tree['samples']}\\n\"\n",
    "                f\"MSE = {tree['entropy']:.4f}\"\n",
    "            )\n",
    "\n",
    "        dot.node(current_id, label)\n",
    "\n",
    "        # If not root, add edge from parent\n",
    "        if parent is not None:\n",
    "            dot.edge(parent, current_id, label=str(edge_label))\n",
    "\n",
    "        node_id += 1\n",
    "\n",
    "        # Recurse children if internal node\n",
    "        if 'nodes' in tree:\n",
    "            for edge_condition, subtree in tree['nodes'].items():\n",
    "                split_value = tree.get('split_value', None)\n",
    "                if split_value is not None:\n",
    "                    if edge_condition == '<=':\n",
    "                        edge_label = f\"<= {split_value:.4f}\"\n",
    "                    elif edge_condition == '>':\n",
    "                        edge_label = f\"> {split_value:.4f}\"\n",
    "                    else:\n",
    "                        edge_label = str(edge_condition)\n",
    "                else:\n",
    "                    edge_label = str(edge_condition)\n",
    "\n",
    "                dot, node_id = add_nodes_edges(subtree, dot, current_id, edge_label, node_id)\n",
    "\n",
    "        return dot, node_id\n",
    "\n",
    "    dot, _ = add_nodes_edges(tree)\n",
    "    return dot\n"
   ]
  },
  {
   "cell_type": "code",
   "execution_count": 10,
   "id": "565d4a78",
   "metadata": {},
   "outputs": [
    {
     "data": {
      "text/plain": [
       "'my_decision_tree.pdf'"
      ]
     },
     "execution_count": 10,
     "metadata": {},
     "output_type": "execute_result"
    }
   ],
   "source": [
    "x1 = pd.Series([1,2,3,4,5,6])\n",
    "y = pd.Series([0,0,1,1,2,2])\n",
    "X = pd.DataFrame({'x1':x1})\n",
    "\n",
    "tree = build_tree_real(X, y, max_depth=10)\n",
    "dot = visualize_decision_tree(tree)\n",
    "dot.render('my_decision_tree', format='png', cleanup=True)\n",
    "dot.view()"
   ]
  },
  {
   "cell_type": "code",
   "execution_count": null,
   "id": "f2c9d917",
   "metadata": {},
   "outputs": [],
   "source": []
  }
 ],
 "metadata": {
  "kernelspec": {
   "display_name": "Python 3",
   "language": "python",
   "name": "python3"
  },
  "language_info": {
   "codemirror_mode": {
    "name": "ipython",
    "version": 3
   },
   "file_extension": ".py",
   "mimetype": "text/x-python",
   "name": "python",
   "nbconvert_exporter": "python",
   "pygments_lexer": "ipython3",
   "version": "3.9.13"
  }
 },
 "nbformat": 4,
 "nbformat_minor": 5
}
