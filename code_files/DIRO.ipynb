{
 "cells": [
  {
   "cell_type": "code",
   "execution_count": 1,
   "id": "1ccc4789",
   "metadata": {},
   "outputs": [],
   "source": [
    "import pandas as pd\n",
    "import numpy as np"
   ]
  },
  {
   "cell_type": "code",
   "execution_count": 2,
   "id": "3951d40f",
   "metadata": {},
   "outputs": [],
   "source": [
    "def MSE(y: pd.Series) -> float:\n",
    "    if y.size == 0:\n",
    "        return 0\n",
    "    else:\n",
    "        m = y.mean()\n",
    "        sum_of_square_errors = 0\n",
    "        for y_i in y:\n",
    "            sum_of_square_errors = sum_of_square_errors + np.square(y_i - m)\n",
    "        return sum_of_square_errors/y.size"
   ]
  },
  {
   "cell_type": "code",
   "execution_count": 3,
   "id": "ec8a5b75",
   "metadata": {},
   "outputs": [],
   "source": [
    "ar = [20,24,40,50,60,10,4,10,60,40,45,40,35,20]\n",
    "y = pd.Series(ar)"
   ]
  },
  {
   "cell_type": "code",
   "execution_count": 4,
   "id": "f28549a2",
   "metadata": {},
   "outputs": [
    {
     "data": {
      "text/plain": [
       "311.34693877551024"
      ]
     },
     "execution_count": 4,
     "metadata": {},
     "output_type": "execute_result"
    }
   ],
   "source": [
    "MSE(y)"
   ]
  },
  {
   "cell_type": "code",
   "execution_count": 5,
   "id": "9fc698da",
   "metadata": {},
   "outputs": [],
   "source": [
    "def MSER(x: pd.Series, y: pd.Series) -> float:\n",
    "    x_cat = x.cat.categories\n",
    "    df = pd.DataFrame({'x':x, 'y':y})\n",
    "    M = MSE(y)\n",
    "    m = 0\n",
    "    for cls in x_cat:\n",
    "        df_temp = df[ df['x'] == cls ]\n",
    "        prob = (df_temp['x'].size)/(x.size)\n",
    "        m  = m + prob*MSE(df_temp['y'])\n",
    "\n",
    "    return M-m"
   ]
  },
  {
   "cell_type": "code",
   "execution_count": 6,
   "id": "e4140e97",
   "metadata": {},
   "outputs": [],
   "source": [
    "def best_node_basedOn_high_MSER(X: pd.DataFrame, y: pd.Series) -> int:\n",
    "    mser_array = []\n",
    "    for attr in X.columns:\n",
    "        mser_array.append(MSER(X[attr], y))\n",
    "        \n",
    "    return mser_array.index(max(mser_array))"
   ]
  },
  {
   "cell_type": "code",
   "execution_count": 7,
   "id": "0570bdb9",
   "metadata": {},
   "outputs": [],
   "source": [
    "#Making A Tree\n",
    "\n",
    "def build_tree(X1, y1, max_depth, current_depth=0):\n",
    "    X = X1\n",
    "    y = y1\n",
    "    node_mse = MSE(y)\n",
    "\n",
    "    # If all labels same -> return leaf node with entropy\n",
    "    if len(y.unique()) == 1:\n",
    "        return {'Class': y.iloc[0], 'mse': node_mse}\n",
    "    \n",
    "    # If no features left or max depth reached -> return majority class with entropy\n",
    "    if X.empty or current_depth == max_depth:\n",
    "        return {'Class': y.mean(), 'mse': node_mse}\n",
    "    \n",
    "    # 1. Find best attribute to split on using your best_node function\n",
    "    best_attr_idx = best_node_basedOn_high_MSER(X, y)\n",
    "    best_attr = X.columns[best_attr_idx]\n",
    "    \n",
    "    # 2. Create tree node with attribute and entropy\n",
    "    tree = {'attribute': best_attr, 'mse': node_mse, 'nodes': {}, 'output': y.mode()[0], 'samples': y.size}\n",
    "    \n",
    "    # 3. For each possible category value of this attribute, build subtree recursively\n",
    "    for attr_val in X[best_attr].cat.categories:\n",
    "        X_subset = X[X[best_attr] == attr_val].drop(columns=[best_attr])\n",
    "        y_subset = y[X[best_attr] == attr_val]\n",
    "        \n",
    "        # 4. If subset empty, assign majority class label as leaf with entropy\n",
    "        if y_subset.empty:\n",
    "            mean_label = y.mean()\n",
    "            subset_mse = 0  # no uncertainty in a single class\n",
    "            tree['nodes'][attr_val] = {'Class': mean_label, 'mse': subset_mse}\n",
    "        else:\n",
    "            # 5. Otherwise, recurse on the subset\n",
    "            tree['nodes'][attr_val] = build_tree(X_subset, y_subset, max_depth, current_depth + 1)\n",
    "    \n",
    "    return tree\n"
   ]
  },
  {
   "cell_type": "code",
   "execution_count": 8,
   "id": "ae28c993",
   "metadata": {},
   "outputs": [],
   "source": [
    "from graphviz import Digraph\n",
    "\n",
    "def visualize_decision_tree(tree):\n",
    "    def add_nodes_edges(tree, dot=None, parent=None, edge_label=None, node_id=0):\n",
    "        if dot is None:\n",
    "            dot = Digraph()\n",
    "            dot.attr('node', shape='box', style='filled', fillcolor='lightyellow', fontname='helvetica')\n",
    "\n",
    "        current_id = str(node_id)\n",
    "\n",
    "        # Node label for internal node or leaf\n",
    "        if 'Class' in tree:\n",
    "            label = f\"y = {tree['Class']}\\n MSE = {tree['mse']:.4f}\"\n",
    "        else:\n",
    "            label = f\"X[{tree['attribute']}]\\ny = {tree['output']}\\nSamples: {tree['samples']}\\nMSE = {tree['mse']:.4f}\"\n",
    "\n",
    "        dot.node(current_id, label)\n",
    "\n",
    "        # If not root, add edge from parent\n",
    "        if parent is not None:\n",
    "            dot.edge(parent, current_id, label=str(edge_label))\n",
    "\n",
    "        node_id += 1\n",
    "\n",
    "        # Recurse children if internal node\n",
    "        if 'nodes' in tree:\n",
    "            for attr_val, subtree in tree['nodes'].items():\n",
    "                dot, node_id = add_nodes_edges(subtree, dot, current_id, attr_val, node_id)\n",
    "\n",
    "        return dot, node_id\n",
    "\n",
    "    dot, _ = add_nodes_edges(tree)\n",
    "    return dot"
   ]
  },
  {
   "cell_type": "code",
   "execution_count": 9,
   "id": "28bc2ed1",
   "metadata": {},
   "outputs": [
    {
     "data": {
      "text/plain": [
       "'my_decision_tree_DIRO.pdf'"
      ]
     },
     "execution_count": 9,
     "metadata": {},
     "output_type": "execute_result"
    }
   ],
   "source": [
    "np.random.seed(42)\n",
    "N = 10\n",
    "P = 3\n",
    "X = pd.DataFrame({i: pd.Series(np.random.randint(P, size=N), dtype=\"category\") for i in range(3)})\n",
    "y = pd.Series(np.random.rand(N))\n",
    "\n",
    "\n",
    "# Suppose you already built the tree like this:\n",
    "tree = build_tree(X, y, max_depth=10)\n",
    "\n",
    "# Then visualize it:\n",
    "dot = visualize_decision_tree(tree)\n",
    "\n",
    "# Save to PNG file (or pdf, svg, etc.)\n",
    "dot.render('my_decision_tree_DIRO', format='png', cleanup=True)\n",
    "\n",
    "# Or just view immediately (requires Graphviz installed)\n",
    "dot.view()\n"
   ]
  },
  {
   "cell_type": "code",
   "execution_count": 10,
   "id": "b1bd4398",
   "metadata": {},
   "outputs": [
    {
     "data": {
      "text/html": [
       "<div>\n",
       "<style scoped>\n",
       "    .dataframe tbody tr th:only-of-type {\n",
       "        vertical-align: middle;\n",
       "    }\n",
       "\n",
       "    .dataframe tbody tr th {\n",
       "        vertical-align: top;\n",
       "    }\n",
       "\n",
       "    .dataframe thead th {\n",
       "        text-align: right;\n",
       "    }\n",
       "</style>\n",
       "<table border=\"1\" class=\"dataframe\">\n",
       "  <thead>\n",
       "    <tr style=\"text-align: right;\">\n",
       "      <th></th>\n",
       "      <th>0</th>\n",
       "      <th>1</th>\n",
       "      <th>2</th>\n",
       "      <th>3</th>\n",
       "    </tr>\n",
       "  </thead>\n",
       "  <tbody>\n",
       "    <tr>\n",
       "      <th>0</th>\n",
       "      <td>2</td>\n",
       "      <td>2</td>\n",
       "      <td>0</td>\n",
       "      <td>0.139494</td>\n",
       "    </tr>\n",
       "    <tr>\n",
       "      <th>1</th>\n",
       "      <td>0</td>\n",
       "      <td>2</td>\n",
       "      <td>0</td>\n",
       "      <td>0.292145</td>\n",
       "    </tr>\n",
       "    <tr>\n",
       "      <th>2</th>\n",
       "      <td>2</td>\n",
       "      <td>0</td>\n",
       "      <td>1</td>\n",
       "      <td>0.366362</td>\n",
       "    </tr>\n",
       "    <tr>\n",
       "      <th>3</th>\n",
       "      <td>2</td>\n",
       "      <td>2</td>\n",
       "      <td>1</td>\n",
       "      <td>0.456070</td>\n",
       "    </tr>\n",
       "    <tr>\n",
       "      <th>4</th>\n",
       "      <td>0</td>\n",
       "      <td>1</td>\n",
       "      <td>0</td>\n",
       "      <td>0.785176</td>\n",
       "    </tr>\n",
       "    <tr>\n",
       "      <th>5</th>\n",
       "      <td>0</td>\n",
       "      <td>0</td>\n",
       "      <td>0</td>\n",
       "      <td>0.199674</td>\n",
       "    </tr>\n",
       "    <tr>\n",
       "      <th>6</th>\n",
       "      <td>2</td>\n",
       "      <td>1</td>\n",
       "      <td>0</td>\n",
       "      <td>0.514234</td>\n",
       "    </tr>\n",
       "    <tr>\n",
       "      <th>7</th>\n",
       "      <td>1</td>\n",
       "      <td>1</td>\n",
       "      <td>2</td>\n",
       "      <td>0.592415</td>\n",
       "    </tr>\n",
       "    <tr>\n",
       "      <th>8</th>\n",
       "      <td>2</td>\n",
       "      <td>1</td>\n",
       "      <td>2</td>\n",
       "      <td>0.046450</td>\n",
       "    </tr>\n",
       "    <tr>\n",
       "      <th>9</th>\n",
       "      <td>2</td>\n",
       "      <td>1</td>\n",
       "      <td>2</td>\n",
       "      <td>0.607545</td>\n",
       "    </tr>\n",
       "  </tbody>\n",
       "</table>\n",
       "</div>"
      ],
      "text/plain": [
       "   0  1  2         3\n",
       "0  2  2  0  0.139494\n",
       "1  0  2  0  0.292145\n",
       "2  2  0  1  0.366362\n",
       "3  2  2  1  0.456070\n",
       "4  0  1  0  0.785176\n",
       "5  0  0  0  0.199674\n",
       "6  2  1  0  0.514234\n",
       "7  1  1  2  0.592415\n",
       "8  2  1  2  0.046450\n",
       "9  2  1  2  0.607545"
      ]
     },
     "execution_count": 10,
     "metadata": {},
     "output_type": "execute_result"
    }
   ],
   "source": [
    "df = X\n",
    "df['3'] = y\n",
    "df"
   ]
  },
  {
   "cell_type": "code",
   "execution_count": null,
   "id": "594e1a79",
   "metadata": {},
   "outputs": [],
   "source": []
  }
 ],
 "metadata": {
  "kernelspec": {
   "display_name": "Python 3",
   "language": "python",
   "name": "python3"
  },
  "language_info": {
   "codemirror_mode": {
    "name": "ipython",
    "version": 3
   },
   "file_extension": ".py",
   "mimetype": "text/x-python",
   "name": "python",
   "nbconvert_exporter": "python",
   "pygments_lexer": "ipython3",
   "version": "3.9.13"
  }
 },
 "nbformat": 4,
 "nbformat_minor": 5
}
