{
 "cells": [
  {
   "cell_type": "code",
   "execution_count": 4,
   "id": "d5d3fc5c",
   "metadata": {},
   "outputs": [],
   "source": [
    "import pandas as pd\n",
    "import numpy as np"
   ]
  },
  {
   "cell_type": "markdown",
   "id": "57c48e83",
   "metadata": {},
   "source": [
    "$\\textbf{Check If Real}$"
   ]
  },
  {
   "cell_type": "code",
   "execution_count": 5,
   "id": "e5af1fcc",
   "metadata": {},
   "outputs": [],
   "source": [
    "def check_ifreal(y: pd.Series) -> bool:\n",
    "    dtype = y.dtype\n",
    "    if dtype == 'float64' or dtype == 'float32' or dtype == 'float16' or dtype == 'float':\n",
    "        return True\n",
    "    else:\n",
    "        return False\n",
    "        "
   ]
  },
  {
   "cell_type": "markdown",
   "id": "8aaec0b3",
   "metadata": {},
   "source": [
    "$\\textbf{Entropy}$"
   ]
  },
  {
   "cell_type": "code",
   "execution_count": 6,
   "id": "2d3e541b",
   "metadata": {},
   "outputs": [],
   "source": [
    "def entropy(y: pd.Series) -> float:\n",
    "    classes = y.cat.categories\n",
    "    counts = y.value_counts()\n",
    "    ent = 0.0\n",
    "    for cls in classes:\n",
    "        count_for_cls = counts.get(cls, 0)\n",
    "        if y.size > 0:\n",
    "            prob = count_for_cls / y.size\n",
    "        else:\n",
    "            prob = 0.0\n",
    "            return 0\n",
    "        \n",
    "        if prob > 0:\n",
    "            ent += -prob * np.log2(prob)\n",
    "            \n",
    "    return ent"
   ]
  },
  {
   "cell_type": "code",
   "execution_count": 7,
   "id": "fe9ec3d4",
   "metadata": {},
   "outputs": [],
   "source": [
    "def information_gain_entropy(x: pd.Series, y: pd.Series) -> float:\n",
    "    S = entropy(y)\n",
    "    classes_x = x.cat.categories\n",
    "    df = pd.DataFrame({'x':x , 'y':y})\n",
    "    s = 0\n",
    "    for cls in classes_x:\n",
    "        df_temp = df[df['x'] == cls]\n",
    "        prob = (df_temp['x'].size)/(x.size)\n",
    "        s = s + prob*entropy(df_temp['y'])\n",
    "    \n",
    "    return S-s\n",
    "\n",
    "    "
   ]
  },
  {
   "cell_type": "code",
   "execution_count": 8,
   "id": "b353410c",
   "metadata": {},
   "outputs": [],
   "source": [
    "def best_node_basedOn_HighInformationGain(X: pd.DataFrame, y: pd.Series) -> int:\n",
    "    information_gain_array = []\n",
    "    for attr in X.columns:\n",
    "        information_gain_array.append(information_gain_entropy(X[attr], y))\n",
    "        \n",
    "    return information_gain_array.index(max(information_gain_array))"
   ]
  },
  {
   "cell_type": "code",
   "execution_count": 9,
   "id": "7fcd1d08",
   "metadata": {},
   "outputs": [],
   "source": [
    "#Making A Tree\n",
    "\n",
    "def build_tree(X1, y1, max_depth, current_depth=0):\n",
    "    X = X1\n",
    "    y = y1\n",
    "    node_entropy = entropy(y)\n",
    "\n",
    "    # If all labels same -> return leaf node with entropy\n",
    "    if len(y.unique()) == 1:\n",
    "        return {'Class': y.iloc[0], 'entropy': node_entropy}\n",
    "    \n",
    "    # If no features left or max depth reached -> return majority class with entropy\n",
    "    if X.empty or current_depth == max_depth:\n",
    "        return {'Class': y.mode()[0], 'entropy': node_entropy}\n",
    "    \n",
    "    # 1. Find best attribute to split on using your best_node function\n",
    "    best_attr_idx = best_node_basedOn_HighInformationGain(X, y)\n",
    "    best_attr = X.columns[best_attr_idx]\n",
    "    \n",
    "    # 2. Create tree node with attribute and entropy\n",
    "    tree = {'attribute': best_attr, 'entropy': node_entropy, 'nodes': {}, 'output': y.mode()[0], 'samples': y.size}\n",
    "    \n",
    "    # 3. For each possible category value of this attribute, build subtree recursively\n",
    "    for attr_val in X[best_attr].cat.categories:\n",
    "        X_subset = X[X[best_attr] == attr_val].drop(columns=[best_attr])\n",
    "        y_subset = y[X[best_attr] == attr_val]\n",
    "        \n",
    "        # 4. If subset empty, assign majority class label as leaf with entropy\n",
    "        if y_subset.empty:\n",
    "            majority_label = y.mode()[0]\n",
    "            subset_entropy = 0  # no uncertainty in a single class\n",
    "            tree['nodes'][attr_val] = {'Class': majority_label, 'entropy': subset_entropy}\n",
    "        else:\n",
    "            # 5. Otherwise, recurse on the subset\n",
    "            tree['nodes'][attr_val] = build_tree(X_subset, y_subset, max_depth, current_depth + 1)\n",
    "    \n",
    "    return tree\n",
    "\n",
    "\n",
    "\n",
    "        \n"
   ]
  },
  {
   "cell_type": "code",
   "execution_count": 14,
   "id": "b10a6500",
   "metadata": {},
   "outputs": [],
   "source": [
    "from graphviz import Digraph\n",
    "\n",
    "def visualize_decision_tree(tree):\n",
    "    def add_nodes_edges(tree, dot=None, parent=None, edge_label=None, node_id=0):\n",
    "        if dot is None:\n",
    "            dot = Digraph()\n",
    "            dot.attr('node', shape='box', style='filled', fillcolor='lightyellow', fontname='helvetica')\n",
    "\n",
    "        current_id = str(node_id)\n",
    "\n",
    "        # Node label for internal node or leaf\n",
    "        if 'Class' in tree:\n",
    "            label = f\"y = {tree['Class']}\"\n",
    "        else:\n",
    "            label = f\"X[{tree['attribute']}]\\ny = {tree['output']}\\nSamples: {tree['samples']}\\nEntropy: {tree['entropy']:.4f}\"\n",
    "\n",
    "        dot.node(current_id, label)\n",
    "\n",
    "        # If not root, add edge from parent\n",
    "        if parent is not None:\n",
    "            dot.edge(parent, current_id, label=str(edge_label))\n",
    "\n",
    "        node_id += 1\n",
    "\n",
    "        # Recurse children if internal node\n",
    "        if 'nodes' in tree:\n",
    "            for attr_val, subtree in tree['nodes'].items():\n",
    "                dot, node_id = add_nodes_edges(subtree, dot, current_id, attr_val, node_id)\n",
    "\n",
    "        return dot, node_id\n",
    "\n",
    "    dot, _ = add_nodes_edges(tree)\n",
    "    return dot\n"
   ]
  },
  {
   "cell_type": "code",
   "execution_count": 15,
   "id": "cfc09cdc",
   "metadata": {},
   "outputs": [
    {
     "data": {
      "text/plain": [
       "'my_decision_tree.pdf'"
      ]
     },
     "execution_count": 15,
     "metadata": {},
     "output_type": "execute_result"
    }
   ],
   "source": [
    "N = 10\n",
    "P = 3\n",
    "X = pd.DataFrame({i: pd.Series(np.random.randint(P, size=N), dtype=\"category\") for i in range(3)})\n",
    "y = pd.Series(np.random.randint(P, size=N), dtype=\"category\")\n",
    "\n",
    "\n",
    "# Suppose you already built the tree like this:\n",
    "tree = build_tree(X, y, max_depth=10)\n",
    "\n",
    "# Then visualize it:\n",
    "dot = visualize_decision_tree(tree)\n",
    "\n",
    "# Save to PNG file (or pdf, svg, etc.)\n",
    "dot.render('my_decision_tree', format='png', cleanup=True)\n",
    "\n",
    "# Or just view immediately (requires Graphviz installed)\n",
    "dot.view()\n"
   ]
  },
  {
   "cell_type": "code",
   "execution_count": null,
   "id": "40259f63",
   "metadata": {},
   "outputs": [
    {
     "data": {
      "text/plain": [
       "'my_decision_tree.pdf'"
      ]
     },
     "execution_count": 51,
     "metadata": {},
     "output_type": "execute_result"
    }
   ],
   "source": [
    "# Test case 3\n",
    "# Discrete Input and Discrete Output\n",
    "\n",
    "N = 30\n",
    "P = 5\n",
    "X = pd.DataFrame({i: pd.Series(np.random.randint(P, size=N), dtype=\"category\") for i in range(5)})\n",
    "y = pd.Series(np.random.randint(P, size=N), dtype=\"category\")\n",
    "\n",
    "best_node_basedOn_HighInformationGain(X,y)"
   ]
  }
 ],
 "metadata": {
  "kernelspec": {
   "display_name": "Python 3",
   "language": "python",
   "name": "python3"
  },
  "language_info": {
   "codemirror_mode": {
    "name": "ipython",
    "version": 3
   },
   "file_extension": ".py",
   "mimetype": "text/x-python",
   "name": "python",
   "nbconvert_exporter": "python",
   "pygments_lexer": "ipython3",
   "version": "3.9.13"
  }
 },
 "nbformat": 4,
 "nbformat_minor": 5
}
